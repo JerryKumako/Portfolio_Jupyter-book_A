{
 "cells": [
  {
   "cell_type": "code",
   "execution_count": null,
   "id": "7591d74b-4c09-45b0-aaf4-681390b4ef9b",
   "metadata": {},
   "outputs": [],
   "source": [
    "Projet 2"
   ]
  }
 ],
 "metadata": {
  "kernelspec": {
   "display_name": "Python 3 (ipykernel)",
   "language": "python",
   "name": "python3"
  },
  "language_info": {
   "codemirror_mode": {
    "name": "ipython",
    "version": 3
   },
   "file_extension": ".py",
   "mimetype": "text/x-python",
   "name": "python",
   "nbconvert_exporter": "python",
   "pygments_lexer": "ipython3",
   "version": "3.9.12"
  }
 },
 "nbformat": 4,
 "nbformat_minor": 5
}
